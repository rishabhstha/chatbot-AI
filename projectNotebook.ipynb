{
 "cells": [
  {
   "cell_type": "markdown",
   "metadata": {},
   "source": [
    "### Project Notebook\n",
    "\n",
    "Take the data generated from the siteScraper notebook and create the appropriate structures that will allow a information request and subsequently a response to the request.  The answer should be in the response and a link should be provided if the user who requested the information wants to learn more.  \n",
    "\n",
    "It might be beneficial to split out the data into a different format (page, dictionary of key phrases, text correspnding to key phrases, etc).\n",
    "\n",
    "You can demonstrate the notebook's ability to provide responses (answers **AND** different link) to where the information needed is located on the UM CIS website.\n",
    "\n"
   ]
  },
  {
   "cell_type": "code",
   "execution_count": 51,
   "metadata": {},
   "outputs": [],
   "source": [
    "import string\n",
    "import nltk\n",
    "import warnings\n",
    "\n",
    "from sklearn.feature_extraction.text import TfidfVectorizer\n",
    "from sklearn.metrics.pairwise import cosine_similarity\n",
    "\n",
    "\n",
    "nltk.download('popular', quiet=True)\n",
    "warnings.filterwarnings('ignore')"
   ]
  },
  {
   "cell_type": "code",
   "execution_count": 52,
   "metadata": {},
   "outputs": [
    {
     "name": "stdout",
     "output_type": "stream",
     "text": [
      "322 322\n"
     ]
    }
   ],
   "source": [
    "with open('text.txt', 'r', encoding='utf8') as f:\n",
    "    sentences = f.read().lower().split('\\n')\n",
    "\n",
    "with open('links.txt', 'r', encoding='utf8') as f:\n",
    "    links = f.read().lower().split('\\n')\n",
    "\n",
    "print(len(links), len(sentences))"
   ]
  },
  {
   "cell_type": "markdown",
   "metadata": {},
   "source": [
    "Remove punctuation, tokenize, lemmatize "
   ]
  },
  {
   "cell_type": "code",
   "execution_count": 53,
   "metadata": {},
   "outputs": [],
   "source": [
    "lemmatizer = nltk.stem.WordNetLemmatizer()\n",
    "\n",
    "#Lemmatize\n",
    "def LemTokens(tokens):\n",
    "    return [lemmatizer.lemmatize(token) for token in tokens]\n",
    "\n",
    "#Tokenize and remove punctuation\n",
    "def LemNormalize(text):\n",
    "    return LemTokens(nltk.word_tokenize(text.lower().translate(str.maketrans('','',string.punctuation))))   "
   ]
  },
  {
   "cell_type": "markdown",
   "metadata": {},
   "source": [
    "### Bot Responses\n",
    "- Create a Tf-idf model and Using cosine similarity to get text close to the query\n",
    "- Return the sentence with the closest similarity and the corresponding link"
   ]
  },
  {
   "cell_type": "code",
   "execution_count": 54,
   "metadata": {},
   "outputs": [],
   "source": [
    "error_response = \"I am sorry! I don't understand :( Please try something else!\"\n",
    "tf_idf_model = TfidfVectorizer(tokenizer=LemNormalize, stop_words='english')\n",
    "\n",
    "\n",
    "def bot_response(query,level):\n",
    "    # Add query to data for encoder (but remove at the end)\n",
    "    sentences.append(query)                                 \n",
    "\n",
    "    tf_idf = tf_idf_model.fit_transform(sentences)  \n",
    "    \n",
    "    # tf_idf[-1] is the query, and  calculating the distance to the other sentences\n",
    "    similarities = cosine_similarity(tf_idf[-1], tf_idf) \n",
    "    \n",
    "     # -1 is the query (d=0), -2 is the closest sentence to it and -3 after that\n",
    "    best_match = similarities.argsort()[0][level]             \n",
    "\n",
    "    # If any similar data to the query could be found\n",
    "    if similarities[0, best_match] == 0:                    \n",
    "        answer = error_response\n",
    "    else:\n",
    "        answer = f'Here is what I found: {sentences[best_match]}.\\n{\"\":8}Learn more at {links[best_match]}\\n'\n",
    "    \n",
    "    \n",
    "    sentences.remove(query)\n",
    "    return answer"
   ]
  },
  {
   "cell_type": "markdown",
   "metadata": {},
   "source": [
    "### Run Bot"
   ]
  },
  {
   "cell_type": "code",
   "execution_count": 57,
   "metadata": {},
   "outputs": [
    {
     "name": "stdout",
     "output_type": "stream",
     "text": [
      "CS Bot: Hello Explorer, you can ask me anything about the CS department of Olemiss. Will I know the answer? Oh well...\n"
     ]
    },
    {
     "name": "stdin",
     "output_type": "stream",
     "text": [
      " Hello\n"
     ]
    },
    {
     "name": "stdout",
     "output_type": "stream",
     "text": [
      "\n",
      "User:   Hello\n",
      "CS Bot: Hello there!\n"
     ]
    },
    {
     "name": "stdin",
     "output_type": "stream",
     "text": [
      " How to get BS degree?\n"
     ]
    },
    {
     "name": "stdout",
     "output_type": "stream",
     "text": [
      "\n",
      "User:   How to get BS degree?\n",
      "CS Bot: Here is what I found: students can obtain a second bachelor’s degree by satisfying the requirements for the bscs or the ba computer science major and earning at least 30 hours of credit above the first degree. however, most students with an undergraduate degree in a field related to computer science may want to consider study toward a graduate degree in computer science as an option..\n",
      "        Learn more at https://cs.olemiss.edu/faq/\n",
      "\n",
      "Does that answer your question?\n"
     ]
    },
    {
     "name": "stdin",
     "output_type": "stream",
     "text": [
      " yes\n"
     ]
    },
    {
     "name": "stdout",
     "output_type": "stream",
     "text": [
      "\n",
      "User:   yes\n",
      "Great!\n"
     ]
    },
    {
     "name": "stdin",
     "output_type": "stream",
     "text": [
      " How about MS degree?\n"
     ]
    },
    {
     "name": "stdout",
     "output_type": "stream",
     "text": [
      "\n",
      "User:   How about MS degree?\n",
      "CS Bot: Here is what I found: a student must be recommended for admission to the ms degree program by the department of computer and information science. to be admitted into the ms degree program a student should:.\n",
      "        Learn more at https://cs.olemiss.edu/master-of-science/\n",
      "\n",
      "Does that answer your question?\n"
     ]
    },
    {
     "name": "stdin",
     "output_type": "stream",
     "text": [
      " No\n"
     ]
    },
    {
     "name": "stdout",
     "output_type": "stream",
     "text": [
      "\n",
      "User:   no\n",
      "CS Bot: Here is what I found: a student who does not pass the comprehensive examination in two sittings may choose to get an m.s. degree after completing a m.s. project or a m.s. thesis..\n",
      "        Learn more at https://cs.olemiss.edu/doctor-of-philosophy/\n",
      "\n",
      "Does that answer your question?\n"
     ]
    },
    {
     "name": "stdin",
     "output_type": "stream",
     "text": [
      " yes\n"
     ]
    },
    {
     "name": "stdout",
     "output_type": "stream",
     "text": [
      "\n",
      "User:   yes\n",
      "Great!\n"
     ]
    },
    {
     "name": "stdin",
     "output_type": "stream",
     "text": [
      " What research groups can I join?\n"
     ]
    },
    {
     "name": "stdout",
     "output_type": "stream",
     "text": [
      "\n",
      "User:   What research groups can I join?\n",
      "CS Bot: Here is what I found: the computer science student body is diverse, with students from all across mississippi, the united states, and beyond. whether you are looking to join a study group, professional society, team club, or simply a new group of friends, you will find our student body is warm and engaging..\n",
      "        Learn more at https://cs.olemiss.edu/mission/\n",
      "\n",
      "Does that answer your question?\n"
     ]
    },
    {
     "name": "stdin",
     "output_type": "stream",
     "text": [
      " No\n"
     ]
    },
    {
     "name": "stdout",
     "output_type": "stream",
     "text": [
      "\n",
      "User:   no\n",
      "CS Bot: Here is what I found: bioinformatics research group: dr. dawn e. wilkins and dr. yixin chen. research on use of machine learning techniques in analysis of microarray data, bioinformatics, and computational biology. funding by nih and nsf..\n",
      "        Learn more at https://cs.olemiss.edu/research-groups/\n",
      "\n",
      "Does that answer your question?\n"
     ]
    },
    {
     "name": "stdin",
     "output_type": "stream",
     "text": [
      " yes\n"
     ]
    },
    {
     "name": "stdout",
     "output_type": "stream",
     "text": [
      "\n",
      "User:   yes\n",
      "Great!\n"
     ]
    },
    {
     "name": "stdin",
     "output_type": "stream",
     "text": [
      " Who is Dr. Rhodes?\n"
     ]
    },
    {
     "name": "stdout",
     "output_type": "stream",
     "text": [
      "\n",
      "User:   Who is Dr. Rhodes?\n",
      "CS Bot: Here is what I found: dr. philip j. rhodes joined the faculty in 2004 after receiving his ph.d. from the university of new hampshire. he is chief architect and implementer of the granite system, a library that provides efficient and convenient access to spatial datasets such as those produced by two and three dimensional simulations. at the graduate level, rhodes teaches on scientific data representation and analysis, scientific visualization, computer graphics, and cloud and parallel computing..\n",
      "        Learn more at http://csci.cs.olemiss.edu/faculty/rhodes/\n",
      "\n",
      "Does that answer your question?\n"
     ]
    },
    {
     "name": "stdin",
     "output_type": "stream",
     "text": [
      " yes\n"
     ]
    },
    {
     "name": "stdout",
     "output_type": "stream",
     "text": [
      "\n",
      "User:   yes\n",
      "Great!\n"
     ]
    },
    {
     "name": "stdin",
     "output_type": "stream",
     "text": [
      " Thank you!\n"
     ]
    },
    {
     "name": "stdout",
     "output_type": "stream",
     "text": [
      "\n",
      "User:   Thank you!\n",
      "CS Bot: At your service. Always!!\n"
     ]
    },
    {
     "name": "stdin",
     "output_type": "stream",
     "text": [
      " Bye\n"
     ]
    },
    {
     "name": "stdout",
     "output_type": "stream",
     "text": [
      "\n",
      "User:   Bye\n",
      "CS Bot: I hope my humble services satisfied you!\n"
     ]
    }
   ],
   "source": [
    "greetings = ['hi', 'hello', 'hey', 'hello there',\"what's up\"]\n",
    "bye_texts = ['bye', 'thank you bye', 'thank you, bye', 'bye bye', 'see you']\n",
    "thanks = ['thanks', 'thank you', 'tnx']\n",
    "\n",
    "print('CS Bot: Hello Explorer, you can ask me anything about the CS department of Olemiss. Will I know the answer? Oh well...')\n",
    "\n",
    "while True:\n",
    "    query = input()\n",
    "    print(f'\\nUser:   {query}')\n",
    "    answerLevel=-2\n",
    "    \n",
    "    query=query.lower().translate(str.maketrans('','',string.punctuation))\n",
    "    \n",
    "    if query in greetings:\n",
    "        print('CS Bot: Hello there!')\n",
    "        continue\n",
    "\n",
    "    if query in bye_texts:\n",
    "        print('CS Bot: I hope my humble services satisfied you!')\n",
    "        break\n",
    "\n",
    "    if query in thanks:\n",
    "        print('CS Bot: At your service. Always!!')\n",
    "        continue\n",
    "\n",
    "    # ANSWER\n",
    "    answer=bot_response(query,answerLevel)\n",
    "    print(f'CS Bot: {answer}')\n",
    "    \n",
    "    #Check if bot does not understand\n",
    "    if \"I am sorry!\" in answer:\n",
    "        continue\n",
    "    \n",
    "    #Checking for User's satisfaction\n",
    "    while True:\n",
    "        print(\"Does that answer your question?\")\n",
    "        query2 = input().lower()\n",
    "        print(f'\\nUser:   {query2}')\n",
    "        \n",
    "        if query2==\"yes\":\n",
    "            print(\"Great!\")\n",
    "            break\n",
    "        if query2==\"no\":\n",
    "            answerLevel-=1\n",
    "            #print(answerLevel)\n",
    "            print(f'CS Bot: {bot_response(query,answerLevel)}')"
   ]
  },
  {
   "cell_type": "code",
   "execution_count": null,
   "metadata": {},
   "outputs": [],
   "source": []
  }
 ],
 "metadata": {
  "kernelspec": {
   "display_name": "Python 3",
   "language": "python",
   "name": "python3"
  },
  "language_info": {
   "codemirror_mode": {
    "name": "ipython",
    "version": 3
   },
   "file_extension": ".py",
   "mimetype": "text/x-python",
   "name": "python",
   "nbconvert_exporter": "python",
   "pygments_lexer": "ipython3",
   "version": "3.8.7"
  }
 },
 "nbformat": 4,
 "nbformat_minor": 4
}
