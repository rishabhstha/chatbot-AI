{
 "cells": [
  {
   "cell_type": "markdown",
   "metadata": {},
   "source": [
    "### Web Scraper for www.cs.olemiss.edu\n",
    "\n",
    "You should use this notebook to *finish* the web scraper for the cs domain.  This data should be stored in the format (url, text from url, etc.).  It might be beneficial to split out the data into a different format (page, dictionary of key phrases, text correspnding to key phrases)\n",
    "\n",
    "You will need to examine the page source code to identify which tags are beneficial to store you might need to store more than just the url and text from url but you can decide.  You can use some libraries such as beautifulsoup to help scrape data from pages.\n",
    "\n",
    "In the end, you should write all the data you acquire to a CSV file for later use by the next part of the project."
   ]
  },
  {
   "cell_type": "code",
   "execution_count": 53,
   "metadata": {},
   "outputs": [],
   "source": [
    "import requests\n",
    "from bs4 import BeautifulSoup\n",
    "import pandas as pd\n"
   ]
  },
  {
   "cell_type": "markdown",
   "metadata": {},
   "source": [
    "# Steps\n",
    "- Download main page and make list of links\n",
    "- Extend list of links with links in faculty page\n",
    "- Visit each link and download text"
   ]
  },
  {
   "cell_type": "code",
   "execution_count": 54,
   "metadata": {},
   "outputs": [],
   "source": [
    "\n",
    "page = requests.get('https://cs.olemiss.edu/faculty/')     \n",
    "soup = BeautifulSoup(page.content, 'html.parser')          "
   ]
  },
  {
   "cell_type": "markdown",
   "metadata": {},
   "source": [
    "### Build list of links\n",
    "- Some faculty cards have no link so filter that out\n",
    "- Not all of the links are from CSCI server so filter that out too"
   ]
  },
  {
   "cell_type": "code",
   "execution_count": 55,
   "metadata": {},
   "outputs": [
    {
     "name": "stdout",
     "output_type": "stream",
     "text": [
      "All links: ['cs.olemiss.edu/course-descriptions/', 'cs.olemiss.edu/minors-offered/', 'cs.olemiss.edu/forms/', 'cs.olemiss.edu/bscs/', 'cs.olemiss.edu/calendar/', 'cs.olemiss.edu/research-groups/', 'csci.cs.olemiss.edu/faculty/cunningham/', 'cs.olemiss.edu/faculty/', 'cs.olemiss.edu/help/', 'csci.cs.olemiss.edu/faculty/davidson/', 'csci.cs.olemiss.edu/faculty/carlisle/', 'cs.olemiss.edu/doctor-of-philosophy/', 'csci.cs.olemiss.edu/faculty/xiong/', 'cs.olemiss.edu/accreditation/', 'cs.olemiss.edu/research-areas/', 'cs.olemiss.edu/future-students/', 'csci.cs.olemiss.edu/faculty/rhodes/', 'cs.olemiss.edu/bscs-emphases-revision-draft/', 'csci.cs.olemiss.edu/faculty/chen/', 'cs.olemiss.edu/faq/', 'csci.cs.olemiss.edu/faculty/vitter/', 'csci.cs.olemiss.edu/faculty/wilkins/', 'csci.cs.olemiss.edu/faculty/jang/', 'cs.olemiss.edu/', 'cs.olemiss.edu/master-of-science/', 'cs.olemiss.edu/bacs/', 'cs.olemiss.edu/staff/', 'cs.olemiss.edu/mission/', 'cs.olemiss.edu/mission-2/']\n"
     ]
    }
   ],
   "source": [
    " # main menu\n",
    "menu_items = soup.find_all('li', class_='menu-item')    \n",
    "\n",
    "# faculty pages\n",
    "faculty_cards = soup.find_all('h2', class_='ab-profile-name')                           \n",
    "\n",
    "#extract 'a' tags with links\n",
    "a_tags=[]\n",
    "for item in menu_items:\n",
    "    a_tags.append(item.find('a'))\n",
    "    \n",
    "for item in faculty_cards:\n",
    "    a_tags.append(item.find('a'))\n",
    "\n",
    "# function to check if a link is not just a '#' but has the some kind of hyperlinks\n",
    "def has_link(a):\n",
    "    if len(a['href'].split('//'))>1:\n",
    "        return True\n",
    "    else:\n",
    "        return False\n",
    "\n",
    " # function to check if a link is from the cs website\n",
    "def in_cs(a):\n",
    "    if a['href'].split('//')[1][:2] == 'cs':\n",
    "        return True\n",
    "    else:\n",
    "        return False\n",
    "\n",
    "\n",
    " # make list of valid href links\n",
    "urls=set()\n",
    "for a in a_tags:\n",
    "    if a and has_link(a) and in_cs(a):\n",
    "        urls.add(a['href'])\n",
    "\n",
    "#displaying all the links\n",
    "print('All links:', [l.split('//')[1] for l in urls])"
   ]
  },
  {
   "cell_type": "code",
   "execution_count": 58,
   "metadata": {},
   "outputs": [
    {
     "name": "stdout",
     "output_type": "stream",
     "text": [
      "420\n",
      "Saved 322 sentences to file\n"
     ]
    }
   ],
   "source": [
    "texts = []\n",
    "links = []\n",
    "\n",
    "for url in urls:\n",
    "    page = requests.get(url)\n",
    "    soup = BeautifulSoup(page.content, 'html.parser')\n",
    "    p_tags = soup.find_all('p', class_='')\n",
    "    \n",
    "    \n",
    "    texts.extend(p.text for p in p_tags)\n",
    "    links.extend(url for _ in p_tags)\n",
    "\n",
    "\n",
    "# print(len(texts))\n",
    "\n",
    "#Text preprocessing\n",
    "clean_texts = []\n",
    "clean_links = []\n",
    "\n",
    "for (text, link) in zip(texts, links):\n",
    "    text = text.replace(r'\\n', '\\n').replace('\\n', '').replace('\\r', '')\n",
    "\n",
    "    if text in clean_texts or text == '' or text == ' ':   \n",
    "        continue\n",
    "    \n",
    "    clean_texts.append(text)\n",
    "    clean_links.append(link)\n",
    "\n",
    "\n",
    "# save to files\n",
    "with open('text.txt', 'w', encoding='utf8') as f:\n",
    "    f.write('\\n'.join(clean_texts)) \n",
    "\n",
    "with open('links.txt', 'w', encoding='utf8') as f:\n",
    "    f.write('\\n'.join(clean_links))\n",
    "\n",
    "print(f'Saved {len(clean_texts)} sentences to file')\n",
    "\n",
    "# Creating a pandas dataframe and csv file\n",
    "data_df=pd.DataFrame()\n",
    "data_df['Url']=clean_links\n",
    "data_df['Text']=clean_texts\n",
    "data_df.to_csv(\"url_text.csv\")"
   ]
  },
  {
   "cell_type": "code",
   "execution_count": 37,
   "metadata": {},
   "outputs": [
    {
     "data": {
      "text/html": [
       "<div>\n",
       "<style scoped>\n",
       "    .dataframe tbody tr th:only-of-type {\n",
       "        vertical-align: middle;\n",
       "    }\n",
       "\n",
       "    .dataframe tbody tr th {\n",
       "        vertical-align: top;\n",
       "    }\n",
       "\n",
       "    .dataframe thead th {\n",
       "        text-align: right;\n",
       "    }\n",
       "</style>\n",
       "<table border=\"1\" class=\"dataframe\">\n",
       "  <thead>\n",
       "    <tr style=\"text-align: right;\">\n",
       "      <th></th>\n",
       "      <th>Url</th>\n",
       "      <th>Text</th>\n",
       "    </tr>\n",
       "  </thead>\n",
       "  <tbody>\n",
       "    <tr>\n",
       "      <th>0</th>\n",
       "      <td>https://cs.olemiss.edu/course-descriptions/</td>\n",
       "      <td>See below for the catalog descriptions of CSci...</td>\n",
       "    </tr>\n",
       "    <tr>\n",
       "      <th>1</th>\n",
       "      <td>https://cs.olemiss.edu/course-descriptions/</td>\n",
       "      <td>The first digit of the course number more or l...</td>\n",
       "    </tr>\n",
       "    <tr>\n",
       "      <th>2</th>\n",
       "      <td>https://cs.olemiss.edu/course-descriptions/</td>\n",
       "      <td>Visit the University’s main catalog to read de...</td>\n",
       "    </tr>\n",
       "    <tr>\n",
       "      <th>3</th>\n",
       "      <td>https://cs.olemiss.edu/course-descriptions/</td>\n",
       "      <td>Introduction to computers and computing for st...</td>\n",
       "    </tr>\n",
       "    <tr>\n",
       "      <th>4</th>\n",
       "      <td>https://cs.olemiss.edu/course-descriptions/</td>\n",
       "      <td>Introduction to computer science with emphasis...</td>\n",
       "    </tr>\n",
       "    <tr>\n",
       "      <th>...</th>\n",
       "      <td>...</td>\n",
       "      <td>...</td>\n",
       "    </tr>\n",
       "    <tr>\n",
       "      <th>317</th>\n",
       "      <td>https://cs.olemiss.edu/mission/</td>\n",
       "      <td>Our faculty have a wide range of research inte...</td>\n",
       "    </tr>\n",
       "    <tr>\n",
       "      <th>318</th>\n",
       "      <td>https://cs.olemiss.edu/mission/</td>\n",
       "      <td>The computer science student body is diverse, ...</td>\n",
       "    </tr>\n",
       "    <tr>\n",
       "      <th>319</th>\n",
       "      <td>https://cs.olemiss.edu/mission/</td>\n",
       "      <td>The following are only a few of the many organ...</td>\n",
       "    </tr>\n",
       "    <tr>\n",
       "      <th>320</th>\n",
       "      <td>https://cs.olemiss.edu/mission/</td>\n",
       "      <td>Reflection Logic: CS students complete a senio...</td>\n",
       "    </tr>\n",
       "    <tr>\n",
       "      <th>321</th>\n",
       "      <td>https://cs.olemiss.edu/mission-2/</td>\n",
       "      <td>The Department of Computer and Information Sci...</td>\n",
       "    </tr>\n",
       "  </tbody>\n",
       "</table>\n",
       "<p>322 rows × 2 columns</p>\n",
       "</div>"
      ],
      "text/plain": [
       "                                             Url  \\\n",
       "0    https://cs.olemiss.edu/course-descriptions/   \n",
       "1    https://cs.olemiss.edu/course-descriptions/   \n",
       "2    https://cs.olemiss.edu/course-descriptions/   \n",
       "3    https://cs.olemiss.edu/course-descriptions/   \n",
       "4    https://cs.olemiss.edu/course-descriptions/   \n",
       "..                                           ...   \n",
       "317              https://cs.olemiss.edu/mission/   \n",
       "318              https://cs.olemiss.edu/mission/   \n",
       "319              https://cs.olemiss.edu/mission/   \n",
       "320              https://cs.olemiss.edu/mission/   \n",
       "321            https://cs.olemiss.edu/mission-2/   \n",
       "\n",
       "                                                  Text  \n",
       "0    See below for the catalog descriptions of CSci...  \n",
       "1    The first digit of the course number more or l...  \n",
       "2    Visit the University’s main catalog to read de...  \n",
       "3    Introduction to computers and computing for st...  \n",
       "4    Introduction to computer science with emphasis...  \n",
       "..                                                 ...  \n",
       "317  Our faculty have a wide range of research inte...  \n",
       "318  The computer science student body is diverse, ...  \n",
       "319  The following are only a few of the many organ...  \n",
       "320  Reflection Logic: CS students complete a senio...  \n",
       "321  The Department of Computer and Information Sci...  \n",
       "\n",
       "[322 rows x 2 columns]"
      ]
     },
     "execution_count": 37,
     "metadata": {},
     "output_type": "execute_result"
    }
   ],
   "source": [
    "data_df"
   ]
  }
 ],
 "metadata": {
  "kernelspec": {
   "display_name": "Python 3",
   "language": "python",
   "name": "python3"
  },
  "language_info": {
   "codemirror_mode": {
    "name": "ipython",
    "version": 3
   },
   "file_extension": ".py",
   "mimetype": "text/x-python",
   "name": "python",
   "nbconvert_exporter": "python",
   "pygments_lexer": "ipython3",
   "version": "3.8.7"
  }
 },
 "nbformat": 4,
 "nbformat_minor": 4
}
